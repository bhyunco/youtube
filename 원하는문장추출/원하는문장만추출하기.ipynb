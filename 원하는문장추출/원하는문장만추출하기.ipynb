{
 "cells": [
  {
   "cell_type": "code",
   "execution_count": null,
   "metadata": {},
   "outputs": [],
   "source": [
    "#파일열기\n",
    "#참고할자료 찾기\n",
    "#찾아야할 자료 찾기\n",
    "#출판사입력"
   ]
  },
  {
   "cell_type": "code",
   "execution_count": 37,
   "metadata": {},
   "outputs": [],
   "source": [
    "#파일열기\n",
    "import pandas as pd\n",
    "df1 = pd.read_excel('sample.xlsx',sheet_name='Sheet1')\n",
    "df2 = pd.read_excel('sample.xlsx',sheet_name='Sheet2')"
   ]
  },
  {
   "cell_type": "code",
   "execution_count": 38,
   "metadata": {},
   "outputs": [
    {
     "data": {
      "text/html": [
       "<div>\n",
       "<style scoped>\n",
       "    .dataframe tbody tr th:only-of-type {\n",
       "        vertical-align: middle;\n",
       "    }\n",
       "\n",
       "    .dataframe tbody tr th {\n",
       "        vertical-align: top;\n",
       "    }\n",
       "\n",
       "    .dataframe thead th {\n",
       "        text-align: right;\n",
       "    }\n",
       "</style>\n",
       "<table border=\"1\" class=\"dataframe\">\n",
       "  <thead>\n",
       "    <tr style=\"text-align: right;\">\n",
       "      <th></th>\n",
       "      <th>책제목</th>\n",
       "      <th>출판사</th>\n",
       "    </tr>\n",
       "  </thead>\n",
       "  <tbody>\n",
       "    <tr>\n",
       "      <th>0</th>\n",
       "      <td>IT 비전공자를 위한 돈 버는 파이썬 코딩</td>\n",
       "      <td>디지털북스</td>\n",
       "    </tr>\n",
       "    <tr>\n",
       "      <th>1</th>\n",
       "      <td>만들면서 배우는 파이썬과 40개의 작품들</td>\n",
       "      <td>앤써북</td>\n",
       "    </tr>\n",
       "    <tr>\n",
       "      <th>2</th>\n",
       "      <td>이것이 취업을 위한 코딩 테스트다 with 파이썬</td>\n",
       "      <td>한빛미디어</td>\n",
       "    </tr>\n",
       "    <tr>\n",
       "      <th>3</th>\n",
       "      <td>Do it! 점프 투 파이썬</td>\n",
       "      <td>이지스퍼블리싱</td>\n",
       "    </tr>\n",
       "    <tr>\n",
       "      <th>4</th>\n",
       "      <td>파이썬 for Beginner</td>\n",
       "      <td>한빛아카데미</td>\n",
       "    </tr>\n",
       "  </tbody>\n",
       "</table>\n",
       "</div>"
      ],
      "text/plain": [
       "                           책제목      출판사\n",
       "0      IT 비전공자를 위한 돈 버는 파이썬 코딩    디지털북스\n",
       "1       만들면서 배우는 파이썬과 40개의 작품들      앤써북\n",
       "2  이것이 취업을 위한 코딩 테스트다 with 파이썬    한빛미디어\n",
       "3              Do it! 점프 투 파이썬  이지스퍼블리싱\n",
       "4             파이썬 for Beginner   한빛아카데미"
      ]
     },
     "execution_count": 38,
     "metadata": {},
     "output_type": "execute_result"
    }
   ],
   "source": [
    "#참고할자료 찾기\n",
    "df1.head()"
   ]
  },
  {
   "cell_type": "code",
   "execution_count": 39,
   "metadata": {},
   "outputs": [
    {
     "data": {
      "text/html": [
       "<div>\n",
       "<style scoped>\n",
       "    .dataframe tbody tr th:only-of-type {\n",
       "        vertical-align: middle;\n",
       "    }\n",
       "\n",
       "    .dataframe tbody tr th {\n",
       "        vertical-align: top;\n",
       "    }\n",
       "\n",
       "    .dataframe thead th {\n",
       "        text-align: right;\n",
       "    }\n",
       "</style>\n",
       "<table border=\"1\" class=\"dataframe\">\n",
       "  <thead>\n",
       "    <tr style=\"text-align: right;\">\n",
       "      <th></th>\n",
       "      <th>상품명</th>\n",
       "      <th>출판사</th>\n",
       "    </tr>\n",
       "  </thead>\n",
       "  <tbody>\n",
       "    <tr>\n",
       "      <th>0</th>\n",
       "      <td>파이썬 웹프로그래밍 실전편[2020년6월-특가]</td>\n",
       "      <td>?</td>\n",
       "    </tr>\n",
       "    <tr>\n",
       "      <th>1</th>\n",
       "      <td>[2020년8월-독점]이것이 데이터 분석이다 with 파이썬</td>\n",
       "      <td>?</td>\n",
       "    </tr>\n",
       "    <tr>\n",
       "      <th>2</th>\n",
       "      <td>[2022년8월-독점]파이썬으로 배우는 포트폴리오</td>\n",
       "      <td>?</td>\n",
       "    </tr>\n",
       "    <tr>\n",
       "      <th>3</th>\n",
       "      <td>[2022년3월-특가]진지한 파이썬</td>\n",
       "      <td>?</td>\n",
       "    </tr>\n",
       "    <tr>\n",
       "      <th>4</th>\n",
       "      <td>[2022년11월-특가]파이썬 생활밀착형 프로젝트</td>\n",
       "      <td>?</td>\n",
       "    </tr>\n",
       "  </tbody>\n",
       "</table>\n",
       "</div>"
      ],
      "text/plain": [
       "                                 상품명 출판사\n",
       "0         파이썬 웹프로그래밍 실전편[2020년6월-특가]   ?\n",
       "1  [2020년8월-독점]이것이 데이터 분석이다 with 파이썬   ?\n",
       "2        [2022년8월-독점]파이썬으로 배우는 포트폴리오   ?\n",
       "3                [2022년3월-특가]진지한 파이썬   ?\n",
       "4        [2022년11월-특가]파이썬 생활밀착형 프로젝트   ?"
      ]
     },
     "execution_count": 39,
     "metadata": {},
     "output_type": "execute_result"
    }
   ],
   "source": [
    "#찾아야할 자료 찾기\n",
    "df2.head()"
   ]
  },
  {
   "cell_type": "code",
   "execution_count": 40,
   "metadata": {},
   "outputs": [],
   "source": [
    "#출판사입력"
   ]
  },
  {
   "cell_type": "code",
   "execution_count": 41,
   "metadata": {},
   "outputs": [
    {
     "data": {
      "text/html": [
       "<div>\n",
       "<style scoped>\n",
       "    .dataframe tbody tr th:only-of-type {\n",
       "        vertical-align: middle;\n",
       "    }\n",
       "\n",
       "    .dataframe tbody tr th {\n",
       "        vertical-align: top;\n",
       "    }\n",
       "\n",
       "    .dataframe thead th {\n",
       "        text-align: right;\n",
       "    }\n",
       "</style>\n",
       "<table border=\"1\" class=\"dataframe\">\n",
       "  <thead>\n",
       "    <tr style=\"text-align: right;\">\n",
       "      <th></th>\n",
       "      <th>상품명</th>\n",
       "      <th>출판사</th>\n",
       "    </tr>\n",
       "  </thead>\n",
       "  <tbody>\n",
       "    <tr>\n",
       "      <th>0</th>\n",
       "      <td>파이썬 웹프로그래밍 실전편[2020년6월-특가]</td>\n",
       "      <td>한빛아카데미</td>\n",
       "    </tr>\n",
       "    <tr>\n",
       "      <th>1</th>\n",
       "      <td>[2020년8월-독점]이것이 데이터 분석이다 with 파이썬</td>\n",
       "      <td>한빛미디어</td>\n",
       "    </tr>\n",
       "    <tr>\n",
       "      <th>2</th>\n",
       "      <td>[2022년8월-독점]파이썬으로 배우는 포트폴리오</td>\n",
       "      <td>한빛아카데미</td>\n",
       "    </tr>\n",
       "    <tr>\n",
       "      <th>3</th>\n",
       "      <td>[2022년3월-특가]진지한 파이썬</td>\n",
       "      <td>한빛아카데미</td>\n",
       "    </tr>\n",
       "    <tr>\n",
       "      <th>4</th>\n",
       "      <td>[2022년11월-특가]파이썬 생활밀착형 프로젝트</td>\n",
       "      <td>로드북</td>\n",
       "    </tr>\n",
       "  </tbody>\n",
       "</table>\n",
       "</div>"
      ],
      "text/plain": [
       "                                 상품명     출판사\n",
       "0         파이썬 웹프로그래밍 실전편[2020년6월-특가]  한빛아카데미\n",
       "1  [2020년8월-독점]이것이 데이터 분석이다 with 파이썬   한빛미디어\n",
       "2        [2022년8월-독점]파이썬으로 배우는 포트폴리오  한빛아카데미\n",
       "3                [2022년3월-특가]진지한 파이썬  한빛아카데미\n",
       "4        [2022년11월-특가]파이썬 생활밀착형 프로젝트     로드북"
      ]
     },
     "execution_count": 41,
     "metadata": {},
     "output_type": "execute_result"
    }
   ],
   "source": [
    "for a in range(len(df2)):\n",
    "    name = df2.loc[a]['상품명']\n",
    "#     print(name)\n",
    "    for b in range(len(df1)):\n",
    "        raw_name = df1.loc[b][0]\n",
    "        publisher = df1.loc[b][1]\n",
    "        if raw_name in name:\n",
    "            df2.loc[a]['출판사']=publisher\n",
    "            break\n",
    "df2.head()"
   ]
  },
  {
   "cell_type": "code",
   "execution_count": 42,
   "metadata": {},
   "outputs": [],
   "source": [
    "df2.to_excel('result.xlsx')"
   ]
  },
  {
   "cell_type": "code",
   "execution_count": null,
   "metadata": {},
   "outputs": [],
   "source": []
  }
 ],
 "metadata": {
  "kernelspec": {
   "display_name": "Python 3",
   "language": "python",
   "name": "python3"
  },
  "language_info": {
   "codemirror_mode": {
    "name": "ipython",
    "version": 3
   },
   "file_extension": ".py",
   "mimetype": "text/x-python",
   "name": "python",
   "nbconvert_exporter": "python",
   "pygments_lexer": "ipython3",
   "version": "3.8.3"
  }
 },
 "nbformat": 4,
 "nbformat_minor": 4
}
